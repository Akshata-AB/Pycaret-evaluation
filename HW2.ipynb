{
  "nbformat": 4,
  "nbformat_minor": 0,
  "metadata": {
    "colab": {
      "provenance": []
    },
    "kernelspec": {
      "name": "python3",
      "display_name": "Python 3"
    },
    "language_info": {
      "name": "python"
    }
  },
  "cells": [
    {
      "cell_type": "code",
      "execution_count": 23,
      "metadata": {
        "id": "wZSfncNWiWZg"
      },
      "outputs": [],
      "source": [
        "def test_distinct(numbers):\n",
        "  distincts = set()\n",
        "  for num in numbers:\n",
        "        if num in distincts:\n",
        "            return False  #  Is duplicate\n",
        "        distincts.add(num)\n",
        "  return True  # No duplicates"
      ]
    },
    {
      "cell_type": "code",
      "source": [
        "print(test_distinct([1,5,7,9]))\n",
        "print(test_distinct([2,4,5,5,7,9]))"
      ],
      "metadata": {
        "colab": {
          "base_uri": "https://localhost:8080/"
        },
        "id": "0aTyVt3GizfF",
        "outputId": "69593ce7-9d6c-4dc8-9a4b-dc8f818348c4"
      },
      "execution_count": 24,
      "outputs": [
        {
          "output_type": "stream",
          "name": "stdout",
          "text": [
            "True\n",
            "False\n"
          ]
        }
      ]
    },
    {
      "cell_type": "code",
      "source": [
        "import numpy as np\n",
        "\n",
        "def zero_index(numpy_array):\n",
        "\n",
        "    return np.where(numpy_array == 0)[0]"
      ],
      "metadata": {
        "id": "nGE3iZGDjFrW"
      },
      "execution_count": 25,
      "outputs": []
    },
    {
      "cell_type": "code",
      "source": [
        "\n",
        "zero_index(np.array([1,0,2,0,3,0,4,5,6,7,8]))"
      ],
      "metadata": {
        "colab": {
          "base_uri": "https://localhost:8080/"
        },
        "id": "ES0a5BVzjpTB",
        "outputId": "7420f28b-e0a5-4517-80e7-f8bf68fb5ad7"
      },
      "execution_count": 26,
      "outputs": [
        {
          "output_type": "execute_result",
          "data": {
            "text/plain": [
              "array([1, 3, 5])"
            ]
          },
          "metadata": {},
          "execution_count": 26
        }
      ]
    },
    {
      "cell_type": "code",
      "source": [
        "import numpy as np\n",
        "\n",
        "\n",
        "w = np.array([0.25, 0.75])\n",
        "x = np.array([100, 200, 300, 400, 500])\n",
        "y = np.array([65, 155, 220, 310, 370])\n",
        "\n",
        "# Calculating the predicted values\n",
        "predicted = w[0] + w[1] * x\n",
        "\n",
        "#[75.25, 150.25,225.25,300.25,375.25]\n",
        "\n",
        "# Printing the intermediate results\n",
        "#[10.25, 4.75,5.25, 9.75, 5.25]\n",
        "#[105.06, 22.56, 27.56, 95.06, 27.56 ]\n",
        "print(\"Predicted Values:\")\n",
        "for i in range(len(x)):\n",
        "    print(f\"x = {x[i]}, Predicted = {predicted[i]}, Actual = {y[i]}\")\n",
        "\n",
        "# Calculating the squared differences between predicted and actual values\n",
        "squared_errors = (predicted - y) ** 2\n",
        "\n",
        "# Printing the squared errors\n",
        "print(\"\\nSquared Errors:\")\n",
        "for i in range(len(squared_errors)):\n",
        "    print(f\"x = {x[i]}, Squared Error = {squared_errors[i]}\")\n",
        "\n",
        "# Calculating the Mean Squared Error (MSE)\n",
        "mse = np.mean(squared_errors)\n",
        "\n",
        "# Printing the MSE\n",
        "print(\"\\nMean Squared Error (MSE):\", mse)\n"
      ],
      "metadata": {
        "colab": {
          "base_uri": "https://localhost:8080/"
        },
        "id": "E5UuYDSLpuw1",
        "outputId": "17e80d76-2a54-40c2-e4bd-734be8740208"
      },
      "execution_count": 27,
      "outputs": [
        {
          "output_type": "stream",
          "name": "stdout",
          "text": [
            "Predicted Values:\n",
            "x = 100, Predicted = 75.25, Actual = 65\n",
            "x = 200, Predicted = 150.25, Actual = 155\n",
            "x = 300, Predicted = 225.25, Actual = 220\n",
            "x = 400, Predicted = 300.25, Actual = 310\n",
            "x = 500, Predicted = 375.25, Actual = 370\n",
            "\n",
            "Squared Errors:\n",
            "x = 100, Squared Error = 105.0625\n",
            "x = 200, Squared Error = 22.5625\n",
            "x = 300, Squared Error = 27.5625\n",
            "x = 400, Squared Error = 95.0625\n",
            "x = 500, Squared Error = 27.5625\n",
            "\n",
            "Mean Squared Error (MSE): 55.5625\n"
          ]
        }
      ]
    }
  ]
}