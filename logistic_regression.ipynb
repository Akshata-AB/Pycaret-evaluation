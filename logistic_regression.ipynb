{
  "nbformat": 4,
  "nbformat_minor": 0,
  "metadata": {
    "colab": {
      "provenance": []
    },
    "language_info": {
      "codemirror_mode": {
        "name": "ipython",
        "version": 3
      },
      "file_extension": ".py",
      "mimetype": "text/x-python",
      "name": "python",
      "nbconvert_exporter": "python",
      "pygments_lexer": "ipython3",
      "version": "3.5.5"
    },
    "kernelspec": {
      "display_name": "Python 3",
      "language": "python",
      "name": "python3"
    }
  },
  "cells": [
    {
      "cell_type": "markdown",
      "metadata": {
        "id": "VGDKqNGv1Rtx"
      },
      "source": [
        "# Logistic Regression\n",
        "\n",
        "You will implement logistic regression classifier.\n",
        "\n",
        "Iris dataset with only 2 classes is provided to test the code.\n"
      ]
    },
    {
      "cell_type": "code",
      "metadata": {
        "id": "alBxk8lq1Rt4",
        "colab": {
          "base_uri": "https://localhost:8080/"
        },
        "outputId": "93d156d3-e48e-4cd3-9583-557d89583a06"
      },
      "source": [
        "import numpy as np\n",
        "import pandas as pd\n",
        "import numpy.matlib\n",
        "import matplotlib.pyplot as plt\n",
        "\n",
        "# read dataset\n",
        "df = pd.read_csv(\"shuffled_2class_iris_dataset.csv\")\n",
        "print(df.head())\n",
        "\n",
        "df = df.values\n",
        "np.random.shuffle(df)\n",
        "\n",
        "X = df[:,0:4]   # 100x4\n",
        "y = df[:,4]     # 100x1\n"
      ],
      "execution_count": 24,
      "outputs": [
        {
          "output_type": "stream",
          "name": "stdout",
          "text": [
            "   sepal_width  sepal_length  petal_width  petal_length  class\n",
            "0          5.6           3.0          4.1           1.3      0\n",
            "1          5.4           3.9          1.7           0.4      1\n",
            "2          5.6           3.0          4.5           1.5      0\n",
            "3          5.0           3.5          1.6           0.6      1\n",
            "4          5.5           2.4          3.7           1.0      0\n"
          ]
        }
      ]
    },
    {
      "cell_type": "code",
      "metadata": {
        "id": "uCmn7QBC1Rue",
        "scrolled": true
      },
      "source": [
        "# Feature scaling\n",
        "max_min = X.max(0) - X.min(0)\n",
        "Xmin = X.min(0)\n",
        "X = (X-Xmin) / max_min\n",
        "\n",
        "# Create 90/10 trainig/test sets\n",
        "train_data = X[0:90,0:4]; train_label = y[0:90]\n",
        "test_data = X[90:100,0:4]; test_label = y[90:100]\n"
      ],
      "execution_count": 25,
      "outputs": []
    },
    {
      "cell_type": "markdown",
      "metadata": {
        "id": "XyMKJ1us1Ruv"
      },
      "source": [
        "### Training"
      ]
    },
    {
      "cell_type": "code",
      "metadata": {
        "id": "uw7RwLKT1Ruy"
      },
      "source": [
        "# Train the model using the training data\n",
        "\n",
        "# Use batch gradient descent to find the optimal weights of the sigmoid function\n",
        "# Experiment with different learning rates\n",
        "# Run it for 2000 iterations.  You may change the number of iterations as you see fit.\n",
        "\n",
        "\n"
      ],
      "execution_count": null,
      "outputs": []
    },
    {
      "cell_type": "code",
      "source": [
        "zz = np.ones((len(test_data),1))\n",
        "test_data = np.concatenate((zz,test_data), axis=1)\n",
        "\n",
        "np.random.seed(1)"
      ],
      "metadata": {
        "id": "qQljCWTxlXsN"
      },
      "execution_count": 26,
      "outputs": []
    },
    {
      "cell_type": "code",
      "source": [
        "nu = 0.01\n",
        "MAX_EPOCHS = 2000\n",
        "J_vec = []\n",
        "\n",
        "\n",
        "zz = np.ones((len(train_data),1))\n",
        "X_train = np.concatenate((zz,train_data), axis=1)\n",
        "y_train = train_label.reshape(len(train_label),1)\n",
        "w = np.random.rand(5,1)\n",
        "w0 = w[0]; w1 = w[1]; w2 = w[2]; w3 = w[3]; w4 = w[4]\n",
        "N = len(y_train)\n",
        "\n",
        "for itr in range (0, MAX_EPOCHS):\n",
        "    for i in range(0,len(X_train)):\n",
        "        sigma = 1/(1+(np.exp(-(w0*X_train[i][0] + w1*X_train[i][1] + w2*X_train[i][2] + w3*X_train[i][3] + w4*X_train[i][4]))))\n",
        "\n",
        "        w0 = w0 - nu * (sum((sigma - y_train[i])*X_train[i][0]))/N\n",
        "        w1 = w1 - nu * (sum((sigma - y_train[i])*X_train[i][1]))/N\n",
        "        w2 = w2 - nu * (sum((sigma - y_train[i])*X_train[i][2]))/N\n",
        "        w3 = w3 - nu * (sum((sigma - y_train[i])*X_train[i][3]))/N\n",
        "        w4 = w4 - nu * (sum((sigma - y_train[i])*X_train[i][4]))/N\n",
        "\n",
        "        J = -(sum((y_train[i]*np.log(sigma))+((1-y_train[i])*np.log(1 - sigma))))\n",
        "\n",
        "    J_vec.append(J)\n",
        "\n",
        "\n",
        "plt.plot(J_vec)\n",
        "plt.xlabel('Epochs')\n",
        "plt.ylabel('cost function')\n",
        "plt.show()"
      ],
      "metadata": {
        "colab": {
          "base_uri": "https://localhost:8080/",
          "height": 449
        },
        "id": "i02I819AhZPD",
        "outputId": "3c7a80dd-b0ad-4446-fe02-bca8c4a71b86"
      },
      "execution_count": 27,
      "outputs": [
        {
          "output_type": "display_data",
          "data": {
            "text/plain": [
              "<Figure size 640x480 with 1 Axes>"
            ],
            "image/png": "[encoded data removed]"
          },
          "metadata": {}
        }
      ]
    },
    {
      "cell_type": "markdown",
      "metadata": {
        "id": "wrLm9qlX1RvE"
      },
      "source": [
        "### Testing"
      ]
    },
    {
      "cell_type": "code",
      "metadata": {
        "id": "cJ3Z1ZHY1RvH",
        "colab": {
          "base_uri": "https://localhost:8080/"
        },
        "outputId": "9d7b1e5c-749a-4957-8cc3-5f8140168540"
      },
      "source": [
        "# Now use the test set to test the model\n",
        "\n",
        "# Print the actual and predicted class labels\n",
        "# Print the average accuracy\n",
        "\n",
        "correct_class_cnt = 0\n",
        "for i in range (0, len(test_data)):\n",
        "\n",
        "    sigma = 1/(1+(np.exp(-(w0*test_data[i][0] + w1*test_data[i][1] + w2*test_data[i][2] + w3*test_data[i][3] + w4*test_data[i][4]))))\n",
        "\n",
        "    if sigma <0.5:\n",
        "        y_hat = 0.0\n",
        "    else:\n",
        "        y_hat = 1.0\n",
        "\n",
        "\n",
        "    print('y={}, y_hat={}'.format(test_label[i], y_hat))\n",
        "    if (y_hat == test_label[i]):\n",
        "        correct_class_cnt += 1\n",
        "\n",
        "print('Average accuracy in % = {0:g}'.format(correct_class_cnt/10*100)+'%')"
      ],
      "execution_count": 28,
      "outputs": [
        {
          "output_type": "stream",
          "name": "stdout",
          "text": [
            "y=1.0, y_hat=1.0\n",
            "y=1.0, y_hat=1.0\n",
            "y=1.0, y_hat=1.0\n",
            "y=0.0, y_hat=0.0\n",
            "y=1.0, y_hat=1.0\n",
            "y=0.0, y_hat=0.0\n",
            "y=1.0, y_hat=1.0\n",
            "y=1.0, y_hat=1.0\n",
            "y=1.0, y_hat=1.0\n",
            "y=0.0, y_hat=0.0\n",
            "Average accuracy in % = 100%\n"
          ]
        }
      ]
    }
  ]
}