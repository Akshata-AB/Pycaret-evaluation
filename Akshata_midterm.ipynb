{
  "nbformat": 4,
  "nbformat_minor": 0,
  "metadata": {
    "colab": {
      "provenance": [],
      "authorship_tag": "ABX9TyN4Pg78l++VEsZMfGaHxrNV",
      "include_colab_link": true
    },
    "kernelspec": {
      "name": "python3",
      "display_name": "Python 3"
    },
    "language_info": {
      "name": "python"
    }
  },
  "cells": [
    {
      "cell_type": "markdown",
      "metadata": {
        "id": "view-in-github",
        "colab_type": "text"
      },
      "source": [
        "<a href=\"https://colab.research.google.com/github/Akshata-AB/Pycaret-evaluation/blob/main/Akshata_midterm.ipynb\" target=\"_parent\"><img src=\"https://colab.research.google.com/assets/colab-badge.svg\" alt=\"Open In Colab\"/></a>"
      ]
    },
    {
      "cell_type": "code",
      "execution_count": null,
      "metadata": {
        "id": "y2GMumf-pNtJ"
      },
      "outputs": [],
      "source": []
    },
    {
      "cell_type": "code",
      "source": [
        "import pandas as pd"
      ],
      "metadata": {
        "id": "iPWhaRIDpRdS"
      },
      "execution_count": 5,
      "outputs": []
    },
    {
      "cell_type": "code",
      "source": [
        "from pandas.io.parsers.readers import DataFrame\n",
        "df = pd.read_csv('/content/train.csv',index_col=0)"
      ],
      "metadata": {
        "id": "3GrfEYk9pcGF"
      },
      "execution_count": 16,
      "outputs": []
    },
    {
      "cell_type": "code",
      "source": [
        "df.head()"
      ],
      "metadata": {
        "colab": {
          "base_uri": "https://localhost:8080/",
          "height": 334
        },
        "id": "ObwQW5M2sFFR",
        "outputId": "654e356e-d4dc-43f0-8be8-3ac4781a36d2"
      },
      "execution_count": 17,
      "outputs": [
        {
          "output_type": "execute_result",
          "data": {
            "text/plain": [
              "           Forgotten Metropolis  Enchanted Town of the West  \\\n",
              "Mystic_id                                                     \n",
              "0                           8.0                        0.50   \n",
              "1                           9.3                        0.30   \n",
              "2                           7.1                        0.51   \n",
              "3                           8.1                        0.87   \n",
              "4                           8.5                        0.36   \n",
              "\n",
              "           Cryptic City by the Sea  Mysterious Capital of the North  \\\n",
              "Mystic_id                                                             \n",
              "0                             0.39                              2.2   \n",
              "1                             0.73                              2.3   \n",
              "2                             0.03                              2.1   \n",
              "3                             0.22                              2.6   \n",
              "4                             0.30                              2.3   \n",
              "\n",
              "           Bizarre Borough of the South  Arcane Village in the Mountains  \\\n",
              "Mystic_id                                                                  \n",
              "0                                 0.073                             30.0   \n",
              "1                                 0.092                             30.0   \n",
              "2                                 0.059                              3.0   \n",
              "3                                 0.084                             11.0   \n",
              "4                                 0.079                             10.0   \n",
              "\n",
              "           Whimsical Hamlet of the Forest  Surreal Settlement by the River  \\\n",
              "Mystic_id                                                                    \n",
              "0                                    39.0                          0.99572   \n",
              "1                                    67.0                          0.99854   \n",
              "2                                    12.0                          0.99660   \n",
              "3                                    65.0                          0.99730   \n",
              "4                                    45.0                          0.99444   \n",
              "\n",
              "           Illusory Isle in the Sky  Dreamlike Downtown of the Desert  \\\n",
              "Mystic_id                                                               \n",
              "0                              3.33                              0.77   \n",
              "1                              3.32                              0.67   \n",
              "2                              3.52                              0.73   \n",
              "3                              3.20                              0.53   \n",
              "4                              3.20                              1.36   \n",
              "\n",
              "           Hypnotic Heights of the Highlands  Illogical Level of Livability  \n",
              "Mystic_id                                                                    \n",
              "0                                       12.1                              6  \n",
              "1                                       12.8                              6  \n",
              "2                                       11.3                              7  \n",
              "3                                        9.8                              5  \n",
              "4                                        9.5                              6  "
            ],
            "text/html": [
              "\n",
              "  <div id=\"df-c01be842-bad7-4393-8808-466df94552d2\">\n",
              "    <div class=\"colab-df-container\">\n",
              "      <div>\n",
              "<style scoped>\n",
              "    .dataframe tbody tr th:only-of-type {\n",
              "        vertical-align: middle;\n",
              "    }\n",
              "\n",
              "    .dataframe tbody tr th {\n",
              "        vertical-align: top;\n",
              "    }\n",
              "\n",
              "    .dataframe thead th {\n",
              "        text-align: right;\n",
              "    }\n",
              "</style>\n",
              "<table border=\"1\" class=\"dataframe\">\n",
              "  <thead>\n",
              "    <tr style=\"text-align: right;\">\n",
              "      <th></th>\n",
              "      <th>Forgotten Metropolis</th>\n",
              "      <th>Enchanted Town of the West</th>\n",
              "      <th>Cryptic City by the Sea</th>\n",
              "      <th>Mysterious Capital of the North</th>\n",
              "      <th>Bizarre Borough of the South</th>\n",
              "      <th>Arcane Village in the Mountains</th>\n",
              "      <th>Whimsical Hamlet of the Forest</th>\n",
              "      <th>Surreal Settlement by the River</th>\n",
              "      <th>Illusory Isle in the Sky</th>\n",
              "      <th>Dreamlike Downtown of the Desert</th>\n",
              "      <th>Hypnotic Heights of the Highlands</th>\n",
              "      <th>Illogical Level of Livability</th>\n",
              "    </tr>\n",
              "    <tr>\n",
              "      <th>Mystic_id</th>\n",
              "      <th></th>\n",
              "      <th></th>\n",
              "      <th></th>\n",
              "      <th></th>\n",
              "      <th></th>\n",
              "      <th></th>\n",
              "      <th></th>\n",
              "      <th></th>\n",
              "      <th></th>\n",
              "      <th></th>\n",
              "      <th></th>\n",
              "      <th></th>\n",
              "    </tr>\n",
              "  </thead>\n",
              "  <tbody>\n",
              "    <tr>\n",
              "      <th>0</th>\n",
              "      <td>8.0</td>\n",
              "      <td>0.50</td>\n",
              "      <td>0.39</td>\n",
              "      <td>2.2</td>\n",
              "      <td>0.073</td>\n",
              "      <td>30.0</td>\n",
              "      <td>39.0</td>\n",
              "      <td>0.99572</td>\n",
              "      <td>3.33</td>\n",
              "      <td>0.77</td>\n",
              "      <td>12.1</td>\n",
              "      <td>6</td>\n",
              "    </tr>\n",
              "    <tr>\n",
              "      <th>1</th>\n",
              "      <td>9.3</td>\n",
              "      <td>0.30</td>\n",
              "      <td>0.73</td>\n",
              "      <td>2.3</td>\n",
              "      <td>0.092</td>\n",
              "      <td>30.0</td>\n",
              "      <td>67.0</td>\n",
              "      <td>0.99854</td>\n",
              "      <td>3.32</td>\n",
              "      <td>0.67</td>\n",
              "      <td>12.8</td>\n",
              "      <td>6</td>\n",
              "    </tr>\n",
              "    <tr>\n",
              "      <th>2</th>\n",
              "      <td>7.1</td>\n",
              "      <td>0.51</td>\n",
              "      <td>0.03</td>\n",
              "      <td>2.1</td>\n",
              "      <td>0.059</td>\n",
              "      <td>3.0</td>\n",
              "      <td>12.0</td>\n",
              "      <td>0.99660</td>\n",
              "      <td>3.52</td>\n",
              "      <td>0.73</td>\n",
              "      <td>11.3</td>\n",
              "      <td>7</td>\n",
              "    </tr>\n",
              "    <tr>\n",
              "      <th>3</th>\n",
              "      <td>8.1</td>\n",
              "      <td>0.87</td>\n",
              "      <td>0.22</td>\n",
              "      <td>2.6</td>\n",
              "      <td>0.084</td>\n",
              "      <td>11.0</td>\n",
              "      <td>65.0</td>\n",
              "      <td>0.99730</td>\n",
              "      <td>3.20</td>\n",
              "      <td>0.53</td>\n",
              "      <td>9.8</td>\n",
              "      <td>5</td>\n",
              "    </tr>\n",
              "    <tr>\n",
              "      <th>4</th>\n",
              "      <td>8.5</td>\n",
              "      <td>0.36</td>\n",
              "      <td>0.30</td>\n",
              "      <td>2.3</td>\n",
              "      <td>0.079</td>\n",
              "      <td>10.0</td>\n",
              "      <td>45.0</td>\n",
              "      <td>0.99444</td>\n",
              "      <td>3.20</td>\n",
              "      <td>1.36</td>\n",
              "      <td>9.5</td>\n",
              "      <td>6</td>\n",
              "    </tr>\n",
              "  </tbody>\n",
              "</table>\n",
              "</div>\n",
              "      <button class=\"colab-df-convert\" onclick=\"convertToInteractive('df-c01be842-bad7-4393-8808-466df94552d2')\"\n",
              "              title=\"Convert this dataframe to an interactive table.\"\n",
              "              style=\"display:none;\">\n",
              "        \n",
              "  <svg xmlns=\"http://www.w3.org/2000/svg\" height=\"24px\"viewBox=\"0 0 24 24\"\n",
              "       width=\"24px\">\n",
              "    <path d=\"M0 0h24v24H0V0z\" fill=\"none\"/>\n",
              "    <path d=\"M18.56 5.44l.94 2.06.94-2.06 2.06-.94-2.06-.94-.94-2.06-.94 2.06-2.06.94zm-11 1L8.5 8.5l.94-2.06 2.06-.94-2.06-.94L8.5 2.5l-.94 2.06-2.06.94zm10 10l.94 2.06.94-2.06 2.06-.94-2.06-.94-.94-2.06-.94 2.06-2.06.94z\"/><path d=\"M17.41 7.96l-1.37-1.37c-.4-.4-.92-.59-1.43-.59-.52 0-1.04.2-1.43.59L10.3 9.45l-7.72 7.72c-.78.78-.78 2.05 0 2.83L4 21.41c.39.39.9.59 1.41.59.51 0 1.02-.2 1.41-.59l7.78-7.78 2.81-2.81c.8-.78.8-2.07 0-2.86zM5.41 20L4 18.59l7.72-7.72 1.47 1.35L5.41 20z\"/>\n",
              "  </svg>\n",
              "      </button>\n",
              "      \n",
              "  <style>\n",
              "    .colab-df-container {\n",
              "      display:flex;\n",
              "      flex-wrap:wrap;\n",
              "      gap: 12px;\n",
              "    }\n",
              "\n",
              "    .colab-df-convert {\n",
              "      background-color: #E8F0FE;\n",
              "      border: none;\n",
              "      border-radius: 50%;\n",
              "      cursor: pointer;\n",
              "      display: none;\n",
              "      fill: #1967D2;\n",
              "      height: 32px;\n",
              "      padding: 0 0 0 0;\n",
              "      width: 32px;\n",
              "    }\n",
              "\n",
              "    .colab-df-convert:hover {\n",
              "      background-color: #E2EBFA;\n",
              "      box-shadow: 0px 1px 2px rgba(60, 64, 67, 0.3), 0px 1px 3px 1px rgba(60, 64, 67, 0.15);\n",
              "      fill: #174EA6;\n",
              "    }\n",
              "\n",
              "    [theme=dark] .colab-df-convert {\n",
              "      background-color: #3B4455;\n",
              "      fill: #D2E3FC;\n",
              "    }\n",
              "\n",
              "    [theme=dark] .colab-df-convert:hover {\n",
              "      background-color: #434B5C;\n",
              "      box-shadow: 0px 1px 3px 1px rgba(0, 0, 0, 0.15);\n",
              "      filter: drop-shadow(0px 1px 2px rgba(0, 0, 0, 0.3));\n",
              "      fill: #FFFFFF;\n",
              "    }\n",
              "  </style>\n",
              "\n",
              "      <script>\n",
              "        const buttonEl =\n",
              "          document.querySelector('#df-c01be842-bad7-4393-8808-466df94552d2 button.colab-df-convert');\n",
              "        buttonEl.style.display =\n",
              "          google.colab.kernel.accessAllowed ? 'block' : 'none';\n",
              "\n",
              "        async function convertToInteractive(key) {\n",
              "          const element = document.querySelector('#df-c01be842-bad7-4393-8808-466df94552d2');\n",
              "          const dataTable =\n",
              "            await google.colab.kernel.invokeFunction('convertToInteractive',\n",
              "                                                     [key], {});\n",
              "          if (!dataTable) return;\n",
              "\n",
              "          const docLinkHtml = 'Like what you see? Visit the ' +\n",
              "            '<a target=\"_blank\" href=https://colab.research.google.com/notebooks/data_table.ipynb>data table notebook</a>'\n",
              "            + ' to learn more about interactive tables.';\n",
              "          element.innerHTML = '';\n",
              "          dataTable['output_type'] = 'display_data';\n",
              "          await google.colab.output.renderOutput(dataTable, element);\n",
              "          const docLink = document.createElement('div');\n",
              "          docLink.innerHTML = docLinkHtml;\n",
              "          element.appendChild(docLink);\n",
              "        }\n",
              "      </script>\n",
              "    </div>\n",
              "  </div>\n",
              "  "
            ]
          },
          "metadata": {},
          "execution_count": 17
        }
      ]
    },
    {
      "cell_type": "code",
      "source": [
        "df.info()"
      ],
      "metadata": {
        "colab": {
          "base_uri": "https://localhost:8080/"
        },
        "id": "OI_FetwKssUV",
        "outputId": "45e5b434-7172-4fba-f880-019f460baf8d"
      },
      "execution_count": 18,
      "outputs": [
        {
          "output_type": "stream",
          "name": "stdout",
          "text": [
            "<class 'pandas.core.frame.DataFrame'>\n",
            "Int64Index: 2056 entries, 0 to 2055\n",
            "Data columns (total 12 columns):\n",
            " #   Column                             Non-Null Count  Dtype  \n",
            "---  ------                             --------------  -----  \n",
            " 0   Forgotten Metropolis               2056 non-null   float64\n",
            " 1   Enchanted Town of the West         2056 non-null   float64\n",
            " 2   Cryptic City by the Sea            2056 non-null   float64\n",
            " 3   Mysterious Capital of the North    2056 non-null   float64\n",
            " 4   Bizarre Borough of the South       2056 non-null   float64\n",
            " 5   Arcane Village in the Mountains    2056 non-null   float64\n",
            " 6   Whimsical Hamlet of the Forest     2056 non-null   float64\n",
            " 7   Surreal Settlement by the River    2056 non-null   float64\n",
            " 8   Illusory Isle in the Sky           2056 non-null   float64\n",
            " 9   Dreamlike Downtown of the Desert   2056 non-null   float64\n",
            " 10  Hypnotic Heights of the Highlands  2056 non-null   float64\n",
            " 11  Illogical Level of Livability      2056 non-null   int64  \n",
            "dtypes: float64(11), int64(1)\n",
            "memory usage: 208.8 KB\n"
          ]
        }
      ]
    },
    {
      "cell_type": "markdown",
      "source": [
        "# New Section"
      ],
      "metadata": {
        "id": "os2gLOk8r6tk"
      }
    },
    {
      "cell_type": "code",
      "source": [
        "df.isna().sum()"
      ],
      "metadata": {
        "colab": {
          "base_uri": "https://localhost:8080/"
        },
        "id": "9g9D_nTfvse2",
        "outputId": "dac2c1d8-2f4e-4c2f-feef-b96594b7b0d2"
      },
      "execution_count": 22,
      "outputs": [
        {
          "output_type": "execute_result",
          "data": {
            "text/plain": [
              "Forgotten Metropolis                 0\n",
              "Enchanted Town of the West           0\n",
              "Cryptic City by the Sea              0\n",
              "Mysterious Capital of the North      0\n",
              "Bizarre Borough of the South         0\n",
              "Arcane Village in the Mountains      0\n",
              "Whimsical Hamlet of the Forest       0\n",
              "Surreal Settlement by the River      0\n",
              "Illusory Isle in the Sky             0\n",
              "Dreamlike Downtown of the Desert     0\n",
              "Hypnotic Heights of the Highlands    0\n",
              "Illogical Level of Livability        0\n",
              "dtype: int64"
            ]
          },
          "metadata": {},
          "execution_count": 22
        }
      ]
    },
    {
      "cell_type": "code",
      "source": [
        "from numpy import float64\n",
        "convert_dict = {'Illogical Level of Livability': float64}\n",
        "df = df.astype(convert_dict)\n",
        "df.info()"
      ],
      "metadata": {
        "colab": {
          "base_uri": "https://localhost:8080/"
        },
        "id": "_xBz9VRkwnl6",
        "outputId": "03fd1673-e7f3-4df5-bc1a-2b491294431e"
      },
      "execution_count": 30,
      "outputs": [
        {
          "output_type": "stream",
          "name": "stdout",
          "text": [
            "<class 'pandas.core.frame.DataFrame'>\n",
            "Int64Index: 2056 entries, 0 to 2055\n",
            "Data columns (total 12 columns):\n",
            " #   Column                             Non-Null Count  Dtype  \n",
            "---  ------                             --------------  -----  \n",
            " 0   Forgotten Metropolis               2056 non-null   float64\n",
            " 1   Enchanted Town of the West         2056 non-null   float64\n",
            " 2   Cryptic City by the Sea            2056 non-null   float64\n",
            " 3   Mysterious Capital of the North    2056 non-null   float64\n",
            " 4   Bizarre Borough of the South       2056 non-null   float64\n",
            " 5   Arcane Village in the Mountains    2056 non-null   float64\n",
            " 6   Whimsical Hamlet of the Forest     2056 non-null   float64\n",
            " 7   Surreal Settlement by the River    2056 non-null   float64\n",
            " 8   Illusory Isle in the Sky           2056 non-null   float64\n",
            " 9   Dreamlike Downtown of the Desert   2056 non-null   float64\n",
            " 10  Hypnotic Heights of the Highlands  2056 non-null   float64\n",
            " 11  Illogical Level of Livability      2056 non-null   float64\n",
            "dtypes: float64(12)\n",
            "memory usage: 208.8 KB\n"
          ]
        }
      ]
    },
    {
      "cell_type": "code",
      "source": [
        "print(df.describe())"
      ],
      "metadata": {
        "colab": {
          "base_uri": "https://localhost:8080/"
        },
        "id": "6r69AW0Uxmwr",
        "outputId": "1e96db40-babb-4641-97d1-6ee910bb10b4"
      },
      "execution_count": 31,
      "outputs": [
        {
          "output_type": "stream",
          "name": "stdout",
          "text": [
            "       Forgotten Metropolis  Enchanted Town of the West  \\\n",
            "count           2056.000000                 2056.000000   \n",
            "mean               8.365175                    0.527601   \n",
            "std                1.705390                    0.173164   \n",
            "min                5.000000                    0.180000   \n",
            "25%                7.200000                    0.390000   \n",
            "50%                7.950000                    0.520000   \n",
            "75%                9.200000                    0.640000   \n",
            "max               15.900000                    1.580000   \n",
            "\n",
            "       Cryptic City by the Sea  Mysterious Capital of the North  \\\n",
            "count              2056.000000                      2056.000000   \n",
            "mean                  0.265058                         2.398881   \n",
            "std                   0.188267                         0.858824   \n",
            "min                   0.000000                         1.200000   \n",
            "25%                   0.090000                         1.900000   \n",
            "50%                   0.250000                         2.200000   \n",
            "75%                   0.420000                         2.600000   \n",
            "max                   0.760000                        14.000000   \n",
            "\n",
            "       Bizarre Borough of the South  Arcane Village in the Mountains  \\\n",
            "count                   2056.000000                      2056.000000   \n",
            "mean                       0.081856                        16.955982   \n",
            "std                        0.023729                        10.009710   \n",
            "min                        0.012000                         1.000000   \n",
            "25%                        0.071000                         8.000000   \n",
            "50%                        0.079000                        16.000000   \n",
            "75%                        0.090000                        24.000000   \n",
            "max                        0.414000                        68.000000   \n",
            "\n",
            "       Whimsical Hamlet of the Forest  Surreal Settlement by the River  \\\n",
            "count                     2056.000000                      2056.000000   \n",
            "mean                        49.236868                         0.996748   \n",
            "std                         32.961141                         0.001827   \n",
            "min                          7.000000                         0.990070   \n",
            "25%                         22.000000                         0.995600   \n",
            "50%                         44.000000                         0.996700   \n",
            "75%                         65.000000                         0.997800   \n",
            "max                        289.000000                         1.003690   \n",
            "\n",
            "       Illusory Isle in the Sky  Dreamlike Downtown of the Desert  \\\n",
            "count               2056.000000                       2056.000000   \n",
            "mean                   3.310569                          0.641308   \n",
            "std                    0.142321                          0.137942   \n",
            "min                    2.740000                          0.390000   \n",
            "25%                    3.200000                          0.550000   \n",
            "50%                    3.310000                          0.610000   \n",
            "75%                    3.390000                          0.720000   \n",
            "max                    3.780000                          1.950000   \n",
            "\n",
            "       Hypnotic Heights of the Highlands  Illogical Level of Livability  \n",
            "count                        2056.000000                    2056.000000  \n",
            "mean                           10.414972                       5.720817  \n",
            "std                             1.028825                       0.853146  \n",
            "min                             8.700000                       3.000000  \n",
            "25%                             9.500000                       5.000000  \n",
            "50%                            10.100000                       6.000000  \n",
            "75%                            11.000000                       6.000000  \n",
            "max                            14.000000                       8.000000  \n"
          ]
        }
      ]
    },
    {
      "cell_type": "code",
      "source": [
        "read_file = pd.read_csv ('/content/check_prediction');\n",
        "read_file.to_csv('/content/prediction.csv')\n",
        "prediction=pd.read_csv('/content/prediction.csv',index_col=1)\n",
        "prediction.info()"
      ],
      "metadata": {
        "colab": {
          "base_uri": "https://localhost:8080/"
        },
        "id": "u_XsI9DR1Lxp",
        "outputId": "91836481-0f32-410d-aabf-abba464dc1b3"
      },
      "execution_count": 40,
      "outputs": [
        {
          "output_type": "stream",
          "name": "stdout",
          "text": [
            "<class 'pandas.core.frame.DataFrame'>\n",
            "Int64Index: 1372 entries, 2056 to 3427\n",
            "Data columns (total 12 columns):\n",
            " #   Column                             Non-Null Count  Dtype  \n",
            "---  ------                             --------------  -----  \n",
            " 0   Unnamed: 0                         1372 non-null   int64  \n",
            " 1   Forgotten Metropolis               1372 non-null   float64\n",
            " 2   Enchanted Town of the West         1372 non-null   float64\n",
            " 3   Cryptic City by the Sea            1372 non-null   float64\n",
            " 4   Mysterious Capital of the North    1372 non-null   float64\n",
            " 5   Bizarre Borough of the South       1372 non-null   float64\n",
            " 6   Arcane Village in the Mountains    1372 non-null   float64\n",
            " 7   Whimsical Hamlet of the Forest     1372 non-null   float64\n",
            " 8   Surreal Settlement by the River    1372 non-null   float64\n",
            " 9   Illusory Isle in the Sky           1372 non-null   float64\n",
            " 10  Dreamlike Downtown of the Desert   1372 non-null   float64\n",
            " 11  Hypnotic Heights of the Highlands  1372 non-null   float64\n",
            "dtypes: float64(11), int64(1)\n",
            "memory usage: 139.3 KB\n"
          ]
        }
      ]
    },
    {
      "cell_type": "code",
      "source": [
        "import seaborn as sns\n",
        "\n",
        "# allow plots to appear within the notebook\n",
        "%matplotlib inline\n",
        "sns.pairplot(df, x_vars=['Forgotten Metropolis','Enchanted Town of the West','Cryptic City by the Sea','Mysterious Capital of the North','Bizarre Borough of the South','Arcane Village in the Mountains','Whimsical Hamlet of the Forest','Surreal Settlement by the River','Illusory Isle in the Sky','Dreamlike Downtown of the Desert','Hypnotic Heights of the Highlands'], y_vars='Illogical Level of Livability', height=7, aspect=0.7,kind='reg')"
      ],
      "metadata": {
        "colab": {
          "base_uri": "https://localhost:8080/",
          "height": 215
        },
        "id": "1zy99Glv3izV",
        "outputId": "776c0f6a-7e8b-4f00-c34c-d52977b33fe1"
      },
      "execution_count": 48,
      "outputs": [
        {
          "output_type": "execute_result",
          "data": {
            "text/plain": [
              "<seaborn.axisgrid.PairGrid at 0x7f21bd8d6100>"
            ]
          },
          "metadata": {},
          "execution_count": 48
        },
        {
          "output_type": "display_data",
          "data": {
            "text/plain": [
              "<Figure size 3880.8x504 with 11 Axes>"
            ],
            "image/png": "[encoded data removed]"
          },
          "metadata": {
            "needs_background": "light"
          }
        }
      ]
    },
    {
      "cell_type": "code",
      "source": [
        "\n",
        "X = df[['Forgotten Metropolis','Enchanted Town of the West','Cryptic City by the Sea','Mysterious Capital of the North','Bizarre Borough of the South','Arcane Village in the Mountains','Whimsical Hamlet of the Forest','Surreal Settlement by the River','Illusory Isle in the Sky','Dreamlike Downtown of the Desert','Hypnotic Heights of the Highlands','Illogical Level of Livability']]\n",
        "#X = df[['Forgotten Metropolis', 'Enchanted Town of the West', 'Cryptic City by the Sea']]\n",
        "X = X.iloc[:, :-1]\n",
        "X.head()"
      ],
      "metadata": {
        "colab": {
          "base_uri": "https://localhost:8080/",
          "height": 334
        },
        "id": "eY78zu945RMe",
        "outputId": "13a16c51-72e6-4799-82f4-11bb99ddd638"
      },
      "execution_count": 60,
      "outputs": [
        {
          "output_type": "execute_result",
          "data": {
            "text/plain": [
              "           Forgotten Metropolis  Enchanted Town of the West  \\\n",
              "Mystic_id                                                     \n",
              "0                           8.0                        0.50   \n",
              "1                           9.3                        0.30   \n",
              "2                           7.1                        0.51   \n",
              "3                           8.1                        0.87   \n",
              "4                           8.5                        0.36   \n",
              "\n",
              "           Cryptic City by the Sea  Mysterious Capital of the North  \\\n",
              "Mystic_id                                                             \n",
              "0                             0.39                              2.2   \n",
              "1                             0.73                              2.3   \n",
              "2                             0.03                              2.1   \n",
              "3                             0.22                              2.6   \n",
              "4                             0.30                              2.3   \n",
              "\n",
              "           Bizarre Borough of the South  Arcane Village in the Mountains  \\\n",
              "Mystic_id                                                                  \n",
              "0                                 0.073                             30.0   \n",
              "1                                 0.092                             30.0   \n",
              "2                                 0.059                              3.0   \n",
              "3                                 0.084                             11.0   \n",
              "4                                 0.079                             10.0   \n",
              "\n",
              "           Whimsical Hamlet of the Forest  Surreal Settlement by the River  \\\n",
              "Mystic_id                                                                    \n",
              "0                                    39.0                          0.99572   \n",
              "1                                    67.0                          0.99854   \n",
              "2                                    12.0                          0.99660   \n",
              "3                                    65.0                          0.99730   \n",
              "4                                    45.0                          0.99444   \n",
              "\n",
              "           Illusory Isle in the Sky  Dreamlike Downtown of the Desert  \\\n",
              "Mystic_id                                                               \n",
              "0                              3.33                              0.77   \n",
              "1                              3.32                              0.67   \n",
              "2                              3.52                              0.73   \n",
              "3                              3.20                              0.53   \n",
              "4                              3.20                              1.36   \n",
              "\n",
              "           Hypnotic Heights of the Highlands  \n",
              "Mystic_id                                     \n",
              "0                                       12.1  \n",
              "1                                       12.8  \n",
              "2                                       11.3  \n",
              "3                                        9.8  \n",
              "4                                        9.5  "
            ],
            "text/html": [
              "\n",
              "  <div id=\"df-7bf8b7a7-2efb-4ed0-84a6-716721f426dc\">\n",
              "    <div class=\"colab-df-container\">\n",
              "      <div>\n",
              "<style scoped>\n",
              "    .dataframe tbody tr th:only-of-type {\n",
              "        vertical-align: middle;\n",
              "    }\n",
              "\n",
              "    .dataframe tbody tr th {\n",
              "        vertical-align: top;\n",
              "    }\n",
              "\n",
              "    .dataframe thead th {\n",
              "        text-align: right;\n",
              "    }\n",
              "</style>\n",
              "<table border=\"1\" class=\"dataframe\">\n",
              "  <thead>\n",
              "    <tr style=\"text-align: right;\">\n",
              "      <th></th>\n",
              "      <th>Forgotten Metropolis</th>\n",
              "      <th>Enchanted Town of the West</th>\n",
              "      <th>Cryptic City by the Sea</th>\n",
              "      <th>Mysterious Capital of the North</th>\n",
              "      <th>Bizarre Borough of the South</th>\n",
              "      <th>Arcane Village in the Mountains</th>\n",
              "      <th>Whimsical Hamlet of the Forest</th>\n",
              "      <th>Surreal Settlement by the River</th>\n",
              "      <th>Illusory Isle in the Sky</th>\n",
              "      <th>Dreamlike Downtown of the Desert</th>\n",
              "      <th>Hypnotic Heights of the Highlands</th>\n",
              "    </tr>\n",
              "    <tr>\n",
              "      <th>Mystic_id</th>\n",
              "      <th></th>\n",
              "      <th></th>\n",
              "      <th></th>\n",
              "      <th></th>\n",
              "      <th></th>\n",
              "      <th></th>\n",
              "      <th></th>\n",
              "      <th></th>\n",
              "      <th></th>\n",
              "      <th></th>\n",
              "      <th></th>\n",
              "    </tr>\n",
              "  </thead>\n",
              "  <tbody>\n",
              "    <tr>\n",
              "      <th>0</th>\n",
              "      <td>8.0</td>\n",
              "      <td>0.50</td>\n",
              "      <td>0.39</td>\n",
              "      <td>2.2</td>\n",
              "      <td>0.073</td>\n",
              "      <td>30.0</td>\n",
              "      <td>39.0</td>\n",
              "      <td>0.99572</td>\n",
              "      <td>3.33</td>\n",
              "      <td>0.77</td>\n",
              "      <td>12.1</td>\n",
              "    </tr>\n",
              "    <tr>\n",
              "      <th>1</th>\n",
              "      <td>9.3</td>\n",
              "      <td>0.30</td>\n",
              "      <td>0.73</td>\n",
              "      <td>2.3</td>\n",
              "      <td>0.092</td>\n",
              "      <td>30.0</td>\n",
              "      <td>67.0</td>\n",
              "      <td>0.99854</td>\n",
              "      <td>3.32</td>\n",
              "      <td>0.67</td>\n",
              "      <td>12.8</td>\n",
              "    </tr>\n",
              "    <tr>\n",
              "      <th>2</th>\n",
              "      <td>7.1</td>\n",
              "      <td>0.51</td>\n",
              "      <td>0.03</td>\n",
              "      <td>2.1</td>\n",
              "      <td>0.059</td>\n",
              "      <td>3.0</td>\n",
              "      <td>12.0</td>\n",
              "      <td>0.99660</td>\n",
              "      <td>3.52</td>\n",
              "      <td>0.73</td>\n",
              "      <td>11.3</td>\n",
              "    </tr>\n",
              "    <tr>\n",
              "      <th>3</th>\n",
              "      <td>8.1</td>\n",
              "      <td>0.87</td>\n",
              "      <td>0.22</td>\n",
              "      <td>2.6</td>\n",
              "      <td>0.084</td>\n",
              "      <td>11.0</td>\n",
              "      <td>65.0</td>\n",
              "      <td>0.99730</td>\n",
              "      <td>3.20</td>\n",
              "      <td>0.53</td>\n",
              "      <td>9.8</td>\n",
              "    </tr>\n",
              "    <tr>\n",
              "      <th>4</th>\n",
              "      <td>8.5</td>\n",
              "      <td>0.36</td>\n",
              "      <td>0.30</td>\n",
              "      <td>2.3</td>\n",
              "      <td>0.079</td>\n",
              "      <td>10.0</td>\n",
              "      <td>45.0</td>\n",
              "      <td>0.99444</td>\n",
              "      <td>3.20</td>\n",
              "      <td>1.36</td>\n",
              "      <td>9.5</td>\n",
              "    </tr>\n",
              "  </tbody>\n",
              "</table>\n",
              "</div>\n",
              "      <button class=\"colab-df-convert\" onclick=\"convertToInteractive('df-7bf8b7a7-2efb-4ed0-84a6-716721f426dc')\"\n",
              "              title=\"Convert this dataframe to an interactive table.\"\n",
              "              style=\"display:none;\">\n",
              "        \n",
              "  <svg xmlns=\"http://www.w3.org/2000/svg\" height=\"24px\"viewBox=\"0 0 24 24\"\n",
              "       width=\"24px\">\n",
              "    <path d=\"M0 0h24v24H0V0z\" fill=\"none\"/>\n",
              "    <path d=\"M18.56 5.44l.94 2.06.94-2.06 2.06-.94-2.06-.94-.94-2.06-.94 2.06-2.06.94zm-11 1L8.5 8.5l.94-2.06 2.06-.94-2.06-.94L8.5 2.5l-.94 2.06-2.06.94zm10 10l.94 2.06.94-2.06 2.06-.94-2.06-.94-.94-2.06-.94 2.06-2.06.94z\"/><path d=\"M17.41 7.96l-1.37-1.37c-.4-.4-.92-.59-1.43-.59-.52 0-1.04.2-1.43.59L10.3 9.45l-7.72 7.72c-.78.78-.78 2.05 0 2.83L4 21.41c.39.39.9.59 1.41.59.51 0 1.02-.2 1.41-.59l7.78-7.78 2.81-2.81c.8-.78.8-2.07 0-2.86zM5.41 20L4 18.59l7.72-7.72 1.47 1.35L5.41 20z\"/>\n",
              "  </svg>\n",
              "      </button>\n",
              "      \n",
              "  <style>\n",
              "    .colab-df-container {\n",
              "      display:flex;\n",
              "      flex-wrap:wrap;\n",
              "      gap: 12px;\n",
              "    }\n",
              "\n",
              "    .colab-df-convert {\n",
              "      background-color: #E8F0FE;\n",
              "      border: none;\n",
              "      border-radius: 50%;\n",
              "      cursor: pointer;\n",
              "      display: none;\n",
              "      fill: #1967D2;\n",
              "      height: 32px;\n",
              "      padding: 0 0 0 0;\n",
              "      width: 32px;\n",
              "    }\n",
              "\n",
              "    .colab-df-convert:hover {\n",
              "      background-color: #E2EBFA;\n",
              "      box-shadow: 0px 1px 2px rgba(60, 64, 67, 0.3), 0px 1px 3px 1px rgba(60, 64, 67, 0.15);\n",
              "      fill: #174EA6;\n",
              "    }\n",
              "\n",
              "    [theme=dark] .colab-df-convert {\n",
              "      background-color: #3B4455;\n",
              "      fill: #D2E3FC;\n",
              "    }\n",
              "\n",
              "    [theme=dark] .colab-df-convert:hover {\n",
              "      background-color: #434B5C;\n",
              "      box-shadow: 0px 1px 3px 1px rgba(0, 0, 0, 0.15);\n",
              "      filter: drop-shadow(0px 1px 2px rgba(0, 0, 0, 0.3));\n",
              "      fill: #FFFFFF;\n",
              "    }\n",
              "  </style>\n",
              "\n",
              "      <script>\n",
              "        const buttonEl =\n",
              "          document.querySelector('#df-7bf8b7a7-2efb-4ed0-84a6-716721f426dc button.colab-df-convert');\n",
              "        buttonEl.style.display =\n",
              "          google.colab.kernel.accessAllowed ? 'block' : 'none';\n",
              "\n",
              "        async function convertToInteractive(key) {\n",
              "          const element = document.querySelector('#df-7bf8b7a7-2efb-4ed0-84a6-716721f426dc');\n",
              "          const dataTable =\n",
              "            await google.colab.kernel.invokeFunction('convertToInteractive',\n",
              "                                                     [key], {});\n",
              "          if (!dataTable) return;\n",
              "\n",
              "          const docLinkHtml = 'Like what you see? Visit the ' +\n",
              "            '<a target=\"_blank\" href=https://colab.research.google.com/notebooks/data_table.ipynb>data table notebook</a>'\n",
              "            + ' to learn more about interactive tables.';\n",
              "          element.innerHTML = '';\n",
              "          dataTable['output_type'] = 'display_data';\n",
              "          await google.colab.output.renderOutput(dataTable, element);\n",
              "          const docLink = document.createElement('div');\n",
              "          docLink.innerHTML = docLinkHtml;\n",
              "          element.appendChild(docLink);\n",
              "        }\n",
              "      </script>\n",
              "    </div>\n",
              "  </div>\n",
              "  "
            ]
          },
          "metadata": {},
          "execution_count": 60
        }
      ]
    },
    {
      "cell_type": "code",
      "source": [
        "y=df['Illogical Level of Livability']\n",
        "y.head()"
      ],
      "metadata": {
        "colab": {
          "base_uri": "https://localhost:8080/"
        },
        "id": "h-Zverle6D4P",
        "outputId": "35b7ce6e-fe2b-490a-9c44-a90ef4722dee"
      },
      "execution_count": 61,
      "outputs": [
        {
          "output_type": "execute_result",
          "data": {
            "text/plain": [
              "Mystic_id\n",
              "0    6.0\n",
              "1    6.0\n",
              "2    7.0\n",
              "3    5.0\n",
              "4    6.0\n",
              "Name: Illogical Level of Livability, dtype: float64"
            ]
          },
          "metadata": {},
          "execution_count": 61
        }
      ]
    },
    {
      "cell_type": "code",
      "source": [
        "from sklearn.model_selection import train_test_split\n",
        "X_train, X_test, y_train, y_test = train_test_split(X, y, random_state=1)"
      ],
      "metadata": {
        "id": "ctLDRYSP6Ubu"
      },
      "execution_count": 57,
      "outputs": []
    },
    {
      "cell_type": "code",
      "source": [
        "from sklearn.linear_model import LinearRegression\n",
        "\n",
        "# instantiate\n",
        "linreg = LinearRegression()\n",
        "\n",
        "# fit the model to the training data (learn the coefficients)\n",
        "linreg.fit(X_train, y_train)"
      ],
      "metadata": {
        "colab": {
          "base_uri": "https://localhost:8080/"
        },
        "id": "IuXjcXbk6bqM",
        "outputId": "abc875e8-776d-42df-8e51-e0e720cb01ae"
      },
      "execution_count": 58,
      "outputs": [
        {
          "output_type": "execute_result",
          "data": {
            "text/plain": [
              "LinearRegression()"
            ]
          },
          "metadata": {},
          "execution_count": 58
        }
      ]
    },
    {
      "cell_type": "code",
      "source": [
        "print(linreg.intercept_)\n",
        "print(linreg.coef_)"
      ],
      "metadata": {
        "colab": {
          "base_uri": "https://localhost:8080/"
        },
        "id": "KkghTCRB6oaW",
        "outputId": "0e1f6253-df62-4993-94e0-312100b7e46e"
      },
      "execution_count": 59,
      "outputs": [
        {
          "output_type": "stream",
          "name": "stdout",
          "text": [
            "1.7763568394002505e-15\n",
            "[-1.92357038e-16  8.89913143e-16  1.53208609e-15  6.48244479e-16\n",
            " -4.84663613e-15  1.74339709e-16 -6.76542156e-17  8.92739692e-15\n",
            " -6.72639028e-16  4.42361263e-16 -6.23727957e-16  1.00000000e+00]\n"
          ]
        }
      ]
    },
    {
      "cell_type": "code",
      "source": [
        "y_pred = linreg.predict(X_test)"
      ],
      "metadata": {
        "id": "99-_j4uI6tqK"
      },
      "execution_count": 63,
      "outputs": []
    },
    {
      "cell_type": "code",
      "source": [
        "import numpy as np\n",
        "from sklearn import metrics\n",
        "print(np.sqrt(metrics.mean_squared_error(y_test, y_pred)))"
      ],
      "metadata": {
        "colab": {
          "base_uri": "https://localhost:8080/"
        },
        "id": "T3eUh4lK7VOt",
        "outputId": "c1831c81-6f92-4988-8cde-284975d464f0"
      },
      "execution_count": 64,
      "outputs": [
        {
          "output_type": "stream",
          "name": "stdout",
          "text": [
            "1.6203615593109756e-15\n"
          ]
        }
      ]
    },
    {
      "cell_type": "code",
      "source": [
        "print(\"Variance explained: %f\" %(linreg.score(X_test,y_test)))"
      ],
      "metadata": {
        "colab": {
          "base_uri": "https://localhost:8080/"
        },
        "id": "DrNUaFII7laU",
        "outputId": "e46b6ff4-e033-4016-dd87-73b44e33e6f4"
      },
      "execution_count": 65,
      "outputs": [
        {
          "output_type": "stream",
          "name": "stdout",
          "text": [
            "Variance explained: 1.000000\n"
          ]
        }
      ]
    },
    {
      "cell_type": "code",
      "source": [
        "from sklearn.neighbors import KNeighborsClassifier\n",
        "from sklearn.metrics import accuracy_score"
      ],
      "metadata": {
        "id": "0C-8A5dt73Uw"
      },
      "execution_count": 67,
      "outputs": []
    },
    {
      "cell_type": "code",
      "source": [],
      "metadata": {
        "id": "MNi8Oyfb7-tX"
      },
      "execution_count": null,
      "outputs": []
    }
  ]
}