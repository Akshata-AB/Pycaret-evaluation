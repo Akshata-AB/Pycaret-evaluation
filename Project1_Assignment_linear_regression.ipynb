{
  "nbformat": 4,
  "nbformat_minor": 0,
  "metadata": {
    "colab": {
      "provenance": []
    },
    "language_info": {
      "codemirror_mode": {
        "name": "ipython",
        "version": 3
      },
      "file_extension": ".py",
      "mimetype": "text/x-python",
      "name": "python",
      "nbconvert_exporter": "python",
      "pygments_lexer": "ipython3",
      "version": "3.5.5"
    },
    "kernelspec": {
      "display_name": "Python 3",
      "language": "python",
      "name": "python3"
    },
    "accelerator": "TPU"
  },
  "cells": [
    {
      "cell_type": "markdown",
      "metadata": {
        "id": "1Yz9bUaJbWGE"
      },
      "source": [
        "# Linear Regression with Batch Gradient Descent\n",
        "\n",
        "You will train your model using a real world dataset.  The dataset contains a collection of real estate listings in San Luis Obispo county.\n",
        "\n",
        "The model predict the price given the square footage of the house.\n"
      ]
    },
    {
      "cell_type": "code",
      "metadata": {
        "id": "5rPpln2qbWGG",
        "colab": {
          "base_uri": "https://localhost:8080/",
          "height": 206
        },
        "outputId": "c8aad4df-a005-4e6f-b3c0-e61fb6108fc0"
      },
      "source": [
        "import numpy as np\n",
        "import pandas as pd\n",
        "import numpy.matlib\n",
        "import matplotlib.pyplot as plt\n",
        "\n",
        "# read dataset\n",
        "df = pd.read_csv(\"/content/sample_data/housing_price_data.csv\")\n",
        "\n",
        "df.head()"
      ],
      "execution_count": 207,
      "outputs": [
        {
          "output_type": "execute_result",
          "data": {
            "text/plain": [
              "     MPLS   Price  Bedrooms  Bathrooms  Size  PriceSq\n",
              "0  132842  795000         3          3  2371   335.30\n",
              "1  134364  399000         4          3  2818   141.59\n",
              "2  135141  545000         4          3  3032   179.75\n",
              "3  135712  909000         4          4  3540   256.78\n",
              "4  136282  109900         3          1  1249    87.99"
            ],
            "text/html": [
              "\n",
              "  <div id=\"df-9c0d2567-729a-4b82-b64b-a84218ed22c4\" class=\"colab-df-container\">\n",
              "    <div>\n",
              "<style scoped>\n",
              "    .dataframe tbody tr th:only-of-type {\n",
              "        vertical-align: middle;\n",
              "    }\n",
              "\n",
              "    .dataframe tbody tr th {\n",
              "        vertical-align: top;\n",
              "    }\n",
              "\n",
              "    .dataframe thead th {\n",
              "        text-align: right;\n",
              "    }\n",
              "</style>\n",
              "<table border=\"1\" class=\"dataframe\">\n",
              "  <thead>\n",
              "    <tr style=\"text-align: right;\">\n",
              "      <th></th>\n",
              "      <th>MPLS</th>\n",
              "      <th>Price</th>\n",
              "      <th>Bedrooms</th>\n",
              "      <th>Bathrooms</th>\n",
              "      <th>Size</th>\n",
              "      <th>PriceSq</th>\n",
              "    </tr>\n",
              "  </thead>\n",
              "  <tbody>\n",
              "    <tr>\n",
              "      <th>0</th>\n",
              "      <td>132842</td>\n",
              "      <td>795000</td>\n",
              "      <td>3</td>\n",
              "      <td>3</td>\n",
              "      <td>2371</td>\n",
              "      <td>335.30</td>\n",
              "    </tr>\n",
              "    <tr>\n",
              "      <th>1</th>\n",
              "      <td>134364</td>\n",
              "      <td>399000</td>\n",
              "      <td>4</td>\n",
              "      <td>3</td>\n",
              "      <td>2818</td>\n",
              "      <td>141.59</td>\n",
              "    </tr>\n",
              "    <tr>\n",
              "      <th>2</th>\n",
              "      <td>135141</td>\n",
              "      <td>545000</td>\n",
              "      <td>4</td>\n",
              "      <td>3</td>\n",
              "      <td>3032</td>\n",
              "      <td>179.75</td>\n",
              "    </tr>\n",
              "    <tr>\n",
              "      <th>3</th>\n",
              "      <td>135712</td>\n",
              "      <td>909000</td>\n",
              "      <td>4</td>\n",
              "      <td>4</td>\n",
              "      <td>3540</td>\n",
              "      <td>256.78</td>\n",
              "    </tr>\n",
              "    <tr>\n",
              "      <th>4</th>\n",
              "      <td>136282</td>\n",
              "      <td>109900</td>\n",
              "      <td>3</td>\n",
              "      <td>1</td>\n",
              "      <td>1249</td>\n",
              "      <td>87.99</td>\n",
              "    </tr>\n",
              "  </tbody>\n",
              "</table>\n",
              "</div>\n",
              "    <div class=\"colab-df-buttons\">\n",
              "\n",
              "  <div class=\"colab-df-container\">\n",
              "    <button class=\"colab-df-convert\" onclick=\"convertToInteractive('df-9c0d2567-729a-4b82-b64b-a84218ed22c4')\"\n",
              "            title=\"Convert this dataframe to an interactive table.\"\n",
              "            style=\"display:none;\">\n",
              "\n",
              "  <svg xmlns=\"http://www.w3.org/2000/svg\" height=\"24px\" viewBox=\"0 -960 960 960\">\n",
              "    <path d=\"M120-120v-720h720v720H120Zm60-500h600v-160H180v160Zm220 220h160v-160H400v160Zm0 220h160v-160H400v160ZM180-400h160v-160H180v160Zm440 0h160v-160H620v160ZM180-180h160v-160H180v160Zm440 0h160v-160H620v160Z\"/>\n",
              "  </svg>\n",
              "    </button>\n",
              "\n",
              "  <style>\n",
              "    .colab-df-container {\n",
              "      display:flex;\n",
              "      gap: 12px;\n",
              "    }\n",
              "\n",
              "    .colab-df-convert {\n",
              "      background-color: #E8F0FE;\n",
              "      border: none;\n",
              "      border-radius: 50%;\n",
              "      cursor: pointer;\n",
              "      display: none;\n",
              "      fill: #1967D2;\n",
              "      height: 32px;\n",
              "      padding: 0 0 0 0;\n",
              "      width: 32px;\n",
              "    }\n",
              "\n",
              "    .colab-df-convert:hover {\n",
              "      background-color: #E2EBFA;\n",
              "      box-shadow: 0px 1px 2px rgba(60, 64, 67, 0.3), 0px 1px 3px 1px rgba(60, 64, 67, 0.15);\n",
              "      fill: #174EA6;\n",
              "    }\n",
              "\n",
              "    .colab-df-buttons div {\n",
              "      margin-bottom: 4px;\n",
              "    }\n",
              "\n",
              "    [theme=dark] .colab-df-convert {\n",
              "      background-color: #3B4455;\n",
              "      fill: #D2E3FC;\n",
              "    }\n",
              "\n",
              "    [theme=dark] .colab-df-convert:hover {\n",
              "      background-color: #434B5C;\n",
              "      box-shadow: 0px 1px 3px 1px rgba(0, 0, 0, 0.15);\n",
              "      filter: drop-shadow(0px 1px 2px rgba(0, 0, 0, 0.3));\n",
              "      fill: #FFFFFF;\n",
              "    }\n",
              "  </style>\n",
              "\n",
              "    <script>\n",
              "      const buttonEl =\n",
              "        document.querySelector('#df-9c0d2567-729a-4b82-b64b-a84218ed22c4 button.colab-df-convert');\n",
              "      buttonEl.style.display =\n",
              "        google.colab.kernel.accessAllowed ? 'block' : 'none';\n",
              "\n",
              "      async function convertToInteractive(key) {\n",
              "        const element = document.querySelector('#df-9c0d2567-729a-4b82-b64b-a84218ed22c4');\n",
              "        const dataTable =\n",
              "          await google.colab.kernel.invokeFunction('convertToInteractive',\n",
              "                                                    [key], {});\n",
              "        if (!dataTable) return;\n",
              "\n",
              "        const docLinkHtml = 'Like what you see? Visit the ' +\n",
              "          '<a target=\"_blank\" href=https://colab.research.google.com/notebooks/data_table.ipynb>data table notebook</a>'\n",
              "          + ' to learn more about interactive tables.';\n",
              "        element.innerHTML = '';\n",
              "        dataTable['output_type'] = 'display_data';\n",
              "        await google.colab.output.renderOutput(dataTable, element);\n",
              "        const docLink = document.createElement('div');\n",
              "        docLink.innerHTML = docLinkHtml;\n",
              "        element.appendChild(docLink);\n",
              "      }\n",
              "    </script>\n",
              "  </div>\n",
              "\n",
              "\n",
              "<div id=\"df-efbc2cbe-14b1-407a-8a73-6ceddc0a098d\">\n",
              "  <button class=\"colab-df-quickchart\" onclick=\"quickchart('df-efbc2cbe-14b1-407a-8a73-6ceddc0a098d')\"\n",
              "            title=\"Suggest charts.\"\n",
              "            style=\"display:none;\">\n",
              "\n",
              "<svg xmlns=\"http://www.w3.org/2000/svg\" height=\"24px\"viewBox=\"0 0 24 24\"\n",
              "     width=\"24px\">\n",
              "    <g>\n",
              "        <path d=\"M19 3H5c-1.1 0-2 .9-2 2v14c0 1.1.9 2 2 2h14c1.1 0 2-.9 2-2V5c0-1.1-.9-2-2-2zM9 17H7v-7h2v7zm4 0h-2V7h2v10zm4 0h-2v-4h2v4z\"/>\n",
              "    </g>\n",
              "</svg>\n",
              "  </button>\n",
              "\n",
              "<style>\n",
              "  .colab-df-quickchart {\n",
              "      --bg-color: #E8F0FE;\n",
              "      --fill-color: #1967D2;\n",
              "      --hover-bg-color: #E2EBFA;\n",
              "      --hover-fill-color: #174EA6;\n",
              "      --disabled-fill-color: #AAA;\n",
              "      --disabled-bg-color: #DDD;\n",
              "  }\n",
              "\n",
              "  [theme=dark] .colab-df-quickchart {\n",
              "      --bg-color: #3B4455;\n",
              "      --fill-color: #D2E3FC;\n",
              "      --hover-bg-color: #434B5C;\n",
              "      --hover-fill-color: #FFFFFF;\n",
              "      --disabled-bg-color: #3B4455;\n",
              "      --disabled-fill-color: #666;\n",
              "  }\n",
              "\n",
              "  .colab-df-quickchart {\n",
              "    background-color: var(--bg-color);\n",
              "    border: none;\n",
              "    border-radius: 50%;\n",
              "    cursor: pointer;\n",
              "    display: none;\n",
              "    fill: var(--fill-color);\n",
              "    height: 32px;\n",
              "    padding: 0;\n",
              "    width: 32px;\n",
              "  }\n",
              "\n",
              "  .colab-df-quickchart:hover {\n",
              "    background-color: var(--hover-bg-color);\n",
              "    box-shadow: 0 1px 2px rgba(60, 64, 67, 0.3), 0 1px 3px 1px rgba(60, 64, 67, 0.15);\n",
              "    fill: var(--button-hover-fill-color);\n",
              "  }\n",
              "\n",
              "  .colab-df-quickchart-complete:disabled,\n",
              "  .colab-df-quickchart-complete:disabled:hover {\n",
              "    background-color: var(--disabled-bg-color);\n",
              "    fill: var(--disabled-fill-color);\n",
              "    box-shadow: none;\n",
              "  }\n",
              "\n",
              "  .colab-df-spinner {\n",
              "    border: 2px solid var(--fill-color);\n",
              "    border-color: transparent;\n",
              "    border-bottom-color: var(--fill-color);\n",
              "    animation:\n",
              "      spin 1s steps(1) infinite;\n",
              "  }\n",
              "\n",
              "  @keyframes spin {\n",
              "    0% {\n",
              "      border-color: transparent;\n",
              "      border-bottom-color: var(--fill-color);\n",
              "      border-left-color: var(--fill-color);\n",
              "    }\n",
              "    20% {\n",
              "      border-color: transparent;\n",
              "      border-left-color: var(--fill-color);\n",
              "      border-top-color: var(--fill-color);\n",
              "    }\n",
              "    30% {\n",
              "      border-color: transparent;\n",
              "      border-left-color: var(--fill-color);\n",
              "      border-top-color: var(--fill-color);\n",
              "      border-right-color: var(--fill-color);\n",
              "    }\n",
              "    40% {\n",
              "      border-color: transparent;\n",
              "      border-right-color: var(--fill-color);\n",
              "      border-top-color: var(--fill-color);\n",
              "    }\n",
              "    60% {\n",
              "      border-color: transparent;\n",
              "      border-right-color: var(--fill-color);\n",
              "    }\n",
              "    80% {\n",
              "      border-color: transparent;\n",
              "      border-right-color: var(--fill-color);\n",
              "      border-bottom-color: var(--fill-color);\n",
              "    }\n",
              "    90% {\n",
              "      border-color: transparent;\n",
              "      border-bottom-color: var(--fill-color);\n",
              "    }\n",
              "  }\n",
              "</style>\n",
              "\n",
              "  <script>\n",
              "    async function quickchart(key) {\n",
              "      const quickchartButtonEl =\n",
              "        document.querySelector('#' + key + ' button');\n",
              "      quickchartButtonEl.disabled = true;  // To prevent multiple clicks.\n",
              "      quickchartButtonEl.classList.add('colab-df-spinner');\n",
              "      try {\n",
              "        const charts = await google.colab.kernel.invokeFunction(\n",
              "            'suggestCharts', [key], {});\n",
              "      } catch (error) {\n",
              "        console.error('Error during call to suggestCharts:', error);\n",
              "      }\n",
              "      quickchartButtonEl.classList.remove('colab-df-spinner');\n",
              "      quickchartButtonEl.classList.add('colab-df-quickchart-complete');\n",
              "    }\n",
              "    (() => {\n",
              "      let quickchartButtonEl =\n",
              "        document.querySelector('#df-efbc2cbe-14b1-407a-8a73-6ceddc0a098d button');\n",
              "      quickchartButtonEl.style.display =\n",
              "        google.colab.kernel.accessAllowed ? 'block' : 'none';\n",
              "    })();\n",
              "  </script>\n",
              "</div>\n",
              "    </div>\n",
              "  </div>\n"
            ]
          },
          "metadata": {},
          "execution_count": 207
        }
      ]
    },
    {
      "cell_type": "code",
      "metadata": {
        "scrolled": true,
        "id": "aRqF_u8NbWGM",
        "colab": {
          "base_uri": "https://localhost:8080/",
          "height": 465
        },
        "outputId": "70aef0bb-80a6-4b66-97e4-33e8a1f8510e"
      },
      "source": [
        "# Plot data points\n",
        "X, y = (df[\"Size\"].values,df[\"Price\"].values)\n",
        "X = X.reshape(len(X),1)\n",
        "y = y.reshape(len(y),1)\n",
        "\n",
        "# plots the data points\n",
        "plt.plot(X, y, 'ro')\n",
        "plt.xlabel(\"# Square footage\")\n",
        "plt.ylabel(\"Price\")\n",
        "plt.show()"
      ],
      "execution_count": 208,
      "outputs": [
        {
          "output_type": "display_data",
          "data": {
            "text/plain": [
              "<Figure size 640x480 with 1 Axes>"
            ],
            "image/png": "[encoded data removed]"
          },
          "metadata": {}
        }
      ]
    },
    {
      "cell_type": "code",
      "metadata": {
        "id": "ROuUVItqbWGR",
        "colab": {
          "base_uri": "https://localhost:8080/"
        },
        "outputId": "ba148298-5003-4545-cc4f-36bbaf5c1e7b"
      },
      "source": [
        "# Normalize the house size, e.g., subtract min and divide by (max-min) to ensure\n",
        "# the scale is compatible with the bias, which is 1\n",
        "max_min = X.max(0) - X.min(0)\n",
        "Xmin = X.min(0)\n",
        "X = (X-Xmin) / max_min\n",
        "\n",
        "# Add bias\n",
        "z=np.ones((len(X),1))\n",
        "X = X.reshape(len(X),1)\n",
        "X = np.concatenate((z,X), axis=1)\n",
        "\n",
        "y = y.reshape(len(X),1)\n",
        "\n",
        "# sort for testing/plotting\n",
        "Xsort = np.sort(X, axis=0)\n",
        "\n",
        "print(X.shape)\n",
        "print(y_t.shape)\n",
        "\n",
        "# For non-vectorized\n",
        "X_train = X[:,1]\n",
        "y_train = y_t"
      ],
      "execution_count": 209,
      "outputs": [
        {
          "output_type": "stream",
          "name": "stdout",
          "text": [
            "(781, 2)\n",
            "(781, 1)\n"
          ]
        }
      ]
    },
    {
      "cell_type": "markdown",
      "metadata": {
        "id": "nNgLG_ZmbWGW"
      },
      "source": [
        "## Complete this code"
      ]
    },
    {
      "cell_type": "code",
      "source": [
        "# Initialize vector w\n",
        "np.random.seed(20)\n",
        "w = np.random.rand(2,1)\n",
        "w0 = w[0]\n",
        "w1 = w[1]\n",
        "\n",
        "# Learning rate\n",
        "nu = 0.5\n",
        "\n",
        "# Number of epochs\n",
        "MAX_EPOCHS = 2000\n",
        "\n",
        "## Your code goes here ...\n"
      ],
      "metadata": {
        "id": "2-5bYERVfXXa"
      },
      "execution_count": 210,
      "outputs": []
    },
    {
      "cell_type": "code",
      "source": [
        "\n",
        "\n",
        "\n",
        "mse_val = []\n",
        "# Loop\n",
        "for itr in range (0, MAX_EPOCHS):\n",
        "    X_train = X_train.reshape(781,1)\n",
        "    y_train = y_train.reshape(781,1)\n",
        "\n",
        "    y_hat = np.add(np.multiply(X_train, w1), w0)\n",
        "\n",
        "    dw0 = np.multiply(np.sum(y_hat - y_train),(1/len(y)))\n",
        "    dw1 = np.multiply(np.sum((y_hat - y_train)*X_train),(1/len(y)))\n",
        "\n",
        "    w0 = w0 - (nu * dw0)\n",
        "    w1 = w1 - (nu * dw1)\n",
        "\n",
        "    mse = np.sum(np.square(y_hat - y_train))*(1/(2*len(y)))\n",
        "    mse_val.append(mse)"
      ],
      "metadata": {
        "id": "bQbcSdC-4NUm"
      },
      "execution_count": 204,
      "outputs": []
    },
    {
      "cell_type": "code",
      "source": [
        "mse_val = []  # To store MSE for each epoch\n",
        "\n",
        "for itr in range(MAX_EPOCHS):\n",
        "    # Reshape X_train and y_train\n",
        "    X_train = X_train.reshape(781, 1)\n",
        "    y_train = y_train.reshape(781, 1)\n",
        "\n",
        "    # Calculate predictions\n",
        "    y_hat = np.add(np.multiply(X_train, w1), w0)\n",
        "\n",
        "    # Calculate gradients\n",
        "    dw0 = np.sum(y_hat - y_train) / len(y_train)\n",
        "    dw1 = np.sum((y_hat - y_train) * X_train) / len(y_train)\n",
        "\n",
        "    # Update weights\n",
        "    w0 = w0 - (nu * dw0)\n",
        "    w1 = w1 - (nu * dw1)\n",
        "\n",
        "    # Calculate and store MSE for this epoch\n",
        "    mse = np.sum(np.square(y_hat - y_train)) / (2 * len(y_train))\n",
        "    mse_val.append(mse)\n"
      ],
      "metadata": {
        "id": "-ZrOp2ySbHW1"
      },
      "execution_count": 211,
      "outputs": []
    },
    {
      "cell_type": "code",
      "source": [
        "\n",
        "# Plot the MSE as a function of epochs\n",
        "#print(mse_history[1999])\n",
        "plt.plot( mse_array)\n",
        "plt.xlabel('Epochs')\n",
        "plt.ylabel('Mean Squared Error')\n",
        "plt.title('MSE vs. number of Epochs')\n",
        "plt.show()\n",
        "\n"
      ],
      "metadata": {
        "colab": {
          "base_uri": "https://localhost:8080/",
          "height": 472
        },
        "id": "mNfyAPwt4QL5",
        "outputId": "5c227882-576d-488c-c410-2b08c5b0af3b"
      },
      "execution_count": 212,
      "outputs": [
        {
          "output_type": "display_data",
          "data": {
            "text/plain": [
              "<Figure size 640x480 with 1 Axes>"
            ],
            "image/png": "[encoded data removed]"
          },
          "metadata": {}
        }
      ]
    },
    {
      "cell_type": "code",
      "source": [
        "\n",
        "# # Plot the regression line over the training examples\n",
        "plt.plot(X_train, y_train, 'ro')\n",
        "plt.plot(Xsort[:, 1], w0 + w1 * Xsort[:, 1], label='Regression Line')\n",
        "#plt.plot(Xsort[:, 1], np.dot(X, w), label='Gradient Descent')\n",
        "plt.xlabel(\"Square Footage\")\n",
        "plt.ylabel(\"Price\")\n",
        "plt.legend()\n",
        "plt.title(\"Regression Line\")\n",
        "plt.show()\n"
      ],
      "metadata": {
        "colab": {
          "base_uri": "https://localhost:8080/",
          "height": 472
        },
        "id": "rwc3ol_q4R03",
        "outputId": "6c85ac05-3710-4a22-fd8c-25f253af5c3b"
      },
      "execution_count": 213,
      "outputs": [
        {
          "output_type": "display_data",
          "data": {
            "text/plain": [
              "<Figure size 640x480 with 1 Axes>"
            ],
            "image/png": "[encoded data removed]"
          },
          "metadata": {}
        }
      ]
    },
    {
      "cell_type": "code",
      "source": [
        "\n",
        "# Normalize the size of the 5000 sq. ft. house for prediction\n",
        "size_5000_normalized = (5000 - Xmin) / max_min\n",
        "\n",
        "# Predict the price of a 5000 sq. ft. house\n",
        "predicted_price_5000 = w0 + w1 * size_5000_normalized\n",
        "\n",
        "print(f'Predicted price of a 5000 sq. ft. house: ${predicted_price_5000[0]:.2f}')"
      ],
      "metadata": {
        "colab": {
          "base_uri": "https://localhost:8080/"
        },
        "id": "vJZoY-KB4Te0",
        "outputId": "26fadd4f-9003-4188-e32f-251c99c54616"
      },
      "execution_count": 214,
      "outputs": [
        {
          "output_type": "stream",
          "name": "stdout",
          "text": [
            "Predicted price of a 5000 sq. ft. house: $1301937.50\n"
          ]
        }
      ]
    }
  ]
}